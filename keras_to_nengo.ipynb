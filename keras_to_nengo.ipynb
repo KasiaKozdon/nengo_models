{
 "cells": [
  {
   "cell_type": "code",
   "execution_count": 2,
   "id": "c9d3327b-8d4c-4e50-b9b3-0713e53db9e1",
   "metadata": {},
   "outputs": [],
   "source": [
    "# Based on https://studywolf.wordpress.com/2020/03/13/converting-your-keras-model-into-a-spiking-neural-network-using-nengo-dl/\n",
    "\n",
    "%matplotlib inline\n",
    "\n",
    "import matplotlib.pyplot as plt\n",
    "import nengo\n",
    "import nengo_dl\n",
    "import numpy as np\n",
    "import tensorflow as tf\n",
    "\n",
    "import utils"
   ]
  },
  {
   "cell_type": "code",
   "execution_count": 3,
   "id": "afaea1a9-5317-47b6-9e4a-08d0bc3739b7",
   "metadata": {},
   "outputs": [
    {
     "name": "stdout",
     "output_type": "stream",
     "text": [
      "Downloading data from https://storage.googleapis.com/tensorflow/tf-keras-datasets/mnist.npz\n",
      "11493376/11490434 [==============================] - 1s 0us/step\n",
      "11501568/11490434 [==============================] - 1s 0us/step\n"
     ]
    },
    {
     "data": {
      "image/png": "[encoded data removed]",
      "text/plain": [
       "<Figure size 432x288 with 1 Axes>"
      ]
     },
     "metadata": {
      "needs_background": "light"
     },
     "output_type": "display_data"
    },
    {
     "data": {
      "image/png": "[encoded data removed]",
      "text/plain": [
       "<Figure size 432x288 with 1 Axes>"
      ]
     },
     "metadata": {
      "needs_background": "light"
     },
     "output_type": "display_data"
    },
    {
     "data": {
      "image/png": "[encoded data removed]",
      "text/plain": [
       "<Figure size 432x288 with 1 Axes>"
      ]
     },
     "metadata": {
      "needs_background": "light"
     },
     "output_type": "display_data"
    }
   ],
   "source": [
    "# load MNIST data\n",
    "\n",
    "minibatch_size = 200\n",
    "train_images, train_labels, test_images, test_labels = utils.load_mnist(plot=True)\n",
    "\n"
   ]
  },
  {
   "cell_type": "code",
   "execution_count": 4,
   "id": "31f1e5b0-8a62-45c9-b5a8-74a9bcc00b52",
   "metadata": {},
   "outputs": [],
   "source": [
    "# build a Keras network\n",
    "tf.random.set_seed(0)\n",
    "\n",
    "input_ = tf.keras.Input(shape=(28,28,1))\n",
    "conv1 = tf.keras.layers.Conv2D(filters=32, kernel_size=3,activation=tf.nn.relu)(input)\n",
    "flatten = tf.keras.layers.Flatten()(conv1)\n",
    "dense1 = tf.keras.layers.Dense(units=10)(flatten)\n",
    "\n",
    "model = tf.keras.Model(inputs=input_, outputs=dense1)"
   ]
  },
  {
   "cell_type": "code",
   "execution_count": 5,
   "id": "d10d9224-2aaf-4d71-891d-d08238ffbb09",
   "metadata": {},
   "outputs": [],
   "source": [
    "# convert the Keras network to Nengo\n",
    "converter = nengo_dl.Converter(model, swap_activations={tf.nn.relu: nengo.RectifiedLinear()})\n",
    "net = converter.net\n",
    "nengo_input = converter.inputs[input]\n",
    "nengo_output = converter.outputs[dense1]"
   ]
  },
  {
   "cell_type": "code",
   "execution_count": null,
   "id": "1cc3be7f-3f52-424e-8088-0b4485cffcd4",
   "metadata": {},
   "outputs": [
    {
     "name": "stdout",
     "output_type": "stream",
     "text": [
      "Build finished in 0:00:00                                                      \n",
      "Optimization finished in 0:00:00                                               \n",
      "Construction finished in 0:00:00                                               \n",
      "Epoch 1/10\n",
      "|             Constructing graph: build stage (0%)             | ETA:  --:--:--"
     ]
    },
    {
     "name": "stderr",
     "output_type": "stream",
     "text": [
      "/Users/katarzynaweronika/opt/anaconda3/envs/nengo_env/lib/python3.10/site-packages/nengo_dl/simulator.py:1765: UserWarning: Number of elements (1) in ['ndarray'] does not match number of Nodes (3); consider using an explicit input dictionary in this case, so that the assignment of data to objects is unambiguous.\n",
      "  warnings.warn(\n"
     ]
    },
    {
     "name": "stdout",
     "output_type": "stream",
     "text": [
      "60000/60000 [==============================] - 219s 4ms/step - loss: 0.5212 - probe_loss: 0.5212\n",
      "Epoch 2/10\n",
      "60000/60000 [==============================] - 220s 4ms/step - loss: 0.4653 - probe_loss: 0.4653\n",
      "Epoch 3/10\n",
      "60000/60000 [==============================] - 238s 4ms/step - loss: 0.4324 - probe_loss: 0.4324\n",
      "Epoch 4/10\n",
      "60000/60000 [==============================] - 229s 4ms/step - loss: 0.4784 - probe_loss: 0.4784\n",
      "Epoch 5/10\n",
      "60000/60000 [==============================] - 212s 4ms/step - loss: 0.4753 - probe_loss: 0.4753\n",
      "Epoch 6/10\n",
      "60000/60000 [==============================] - 222s 4ms/step - loss: 0.4688 - probe_loss: 0.4688\n",
      "Epoch 7/10\n",
      "10524/60000 [====>.........................] - ETA: 3:01 - loss: 0.4646 - probe_loss: 0.4646"
     ]
    }
   ],
   "source": [
    "# train with NengoDL\n",
    "with nengo_dl.Simulator(net, seed=0) as sim:\n",
    "    sim.compile(optimizer=tf.optimizers.RMSprop(0.001),\n",
    "                loss={nengo_output: tf.losses.SparseCategoricalCrossentropy(from_logits=True)})\n",
    "    sim.fit(train_images, {nengo_output: train_labels}, epochs=10)\n",
    "    \n",
    "    # save parameters to a file\n",
    "    sim.save_params(\"mnist_params\")"
   ]
  },
  {
   "cell_type": "code",
   "execution_count": null,
   "id": "35ecc4cd-4f9b-4517-babc-a54376620e7a",
   "metadata": {},
   "outputs": [],
   "source": []
  }
 ],
 "metadata": {
  "kernelspec": {
   "display_name": "Python 3 (ipykernel)",
   "language": "python",
   "name": "python3"
  },
  "language_info": {
   "codemirror_mode": {
    "name": "ipython",
    "version": 3
   },
   "file_extension": ".py",
   "mimetype": "text/x-python",
   "name": "python",
   "nbconvert_exporter": "python",
   "pygments_lexer": "ipython3",
   "version": "3.10.4"
  }
 },
 "nbformat": 4,
 "nbformat_minor": 5
}
